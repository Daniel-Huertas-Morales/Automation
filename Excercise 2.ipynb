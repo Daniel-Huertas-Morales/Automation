{
 "cells": [
  {
   "cell_type": "code",
   "execution_count": 5,
   "metadata": {},
   "outputs": [
    {
     "name": "stdout",
     "output_type": "stream",
     "text": [
      "[3. 4.]\n",
      "[3. 4.]\n",
      "\n"
     ]
    },
    {
     "ename": "AttributeError",
     "evalue": "module 'time' has no attribute 'processtime'",
     "output_type": "error",
     "traceback": [
      "\u001b[1;31m---------------------------------------------------------------------------\u001b[0m",
      "\u001b[1;31mAttributeError\u001b[0m                            Traceback (most recent call last)",
      "Cell \u001b[1;32mIn[5], line 28\u001b[0m\n\u001b[0;32m     26\u001b[0m b \u001b[39m=\u001b[39m np \u001b[39m.\u001b[39m random\u001b[39m.\u001b[39m random((\u001b[39m1\u001b[39m,m))\n\u001b[0;32m     27\u001b[0m \u001b[39m#s top time o f computation\u001b[39;00m\n\u001b[1;32m---> 28\u001b[0m start \u001b[39m=\u001b[39m time\u001b[39m.\u001b[39;49mprocesstime()\n\u001b[0;32m     29\u001b[0m \u001b[39m#compute distance\u001b[39;00m\n",
      "\u001b[1;31mAttributeError\u001b[0m: module 'time' has no attribute 'processtime'"
     ]
    }
   ],
   "source": [
    "import numpy as np \n",
    "import time \n",
    "def euclidean_distance_naive(a,b): \n",
    "    dist=0\n",
    "    for i in range(a.shape[0]):\n",
    "        dist=dist+(a[i]-b[i])**2\n",
    "\n",
    "    return (dist)**(1/2)\n",
    "\n",
    "\n",
    "def euclidean_distance_dot(a, b): \n",
    "    return (a.T).dot(a) - 2*(a.T).dot(b) + (b.T).dot(b)\n",
    "\n",
    "\n",
    "#Simple Test with row vector s of size 1 x 2 \n",
    "a = np . array ( [ [ 3 , 5 ] ] )\n",
    "b = np . array ( [ [ 6 , 9 ] ] )\n",
    "print ( euclidean_distance_naive( a , b ) )\n",
    "print ( euclidean_distance_naive ( a , b ) )\n",
    "print ( )\n",
    "#Test with random row v e c t o r s o f s i z e 1 x 1 0 Mi l l i o n\n",
    "#Random numbers with s e ed\n",
    "np . random. seed (42)\n",
    "m = 10**7 #10 Million Features\n",
    "a = np . random. random((1,m))\n",
    "b = np . random. random((1,m))\n",
    "#s top time o f computation\n",
    "start = time.processtime()\n",
    "#compute distance\n"
   ]
  },
  {
   "cell_type": "code",
   "execution_count": null,
   "metadata": {},
   "outputs": [],
   "source": []
  }
 ],
 "metadata": {
  "kernelspec": {
   "display_name": "Python 3",
   "language": "python",
   "name": "python3"
  },
  "language_info": {
   "codemirror_mode": {
    "name": "ipython",
    "version": 3
   },
   "file_extension": ".py",
   "mimetype": "text/x-python",
   "name": "python",
   "nbconvert_exporter": "python",
   "pygments_lexer": "ipython3",
   "version": "3.10.0"
  },
  "orig_nbformat": 4
 },
 "nbformat": 4,
 "nbformat_minor": 2
}
