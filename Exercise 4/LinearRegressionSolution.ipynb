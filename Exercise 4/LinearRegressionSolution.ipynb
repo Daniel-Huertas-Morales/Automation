{
 "cells": [
  {
   "cell_type": "code",
   "execution_count": 1,
   "metadata": {},
   "outputs": [
    {
     "name": "stdout",
     "output_type": "stream",
     "text": [
      "#Samples:\t697\n",
      "#Features:\t149\n",
      "Mean y:\t\t38.80\n"
     ]
    },
    {
     "data": {
      "image/png": "[encoded data removed]",
      "text/plain": [
       "<Figure size 432x288 with 1 Axes>"
      ]
     },
     "metadata": {
      "needs_background": "light"
     },
     "output_type": "display_data"
    }
   ],
   "source": [
    "%matplotlib inline \n",
    "import numpy as np\n",
    "import pylab as pl\n",
    "\n",
    "#Load data\n",
    "X = np.loadtxt(\"plant_genotype.csv\", delimiter=\",\")\n",
    "y = np.loadtxt(\"plant_flowering_time.csv\")\n",
    "\n",
    "print(\"#Samples:\\t\" + str(X.shape[0]))\n",
    "print(\"#Features:\\t\" + str(X.shape[1]))\n",
    "\n",
    "pl.hist(y, edgecolor=\"w\", bins=20)\n",
    "print(\"Mean y:\\t\\t%.2f\" % y.mean())"
   ]
  },
  {
   "cell_type": "code",
   "execution_count": 2,
   "metadata": {},
   "outputs": [
    {
     "name": "stdout",
     "output_type": "stream",
     "text": [
      "Full Data:\t(697, 149)\n",
      "Train Data:\t(557, 149)\n",
      "Test Data:\t(140, 149)\n"
     ]
    }
   ],
   "source": [
    "import sklearn.metrics as metrics\n",
    "from sklearn.model_selection import train_test_split\n",
    "from sklearn.linear_model import LinearRegression\n",
    "\n",
    "#Split data into train and test\n",
    "X_train, X_test, y_train, y_test = train_test_split(X,y, test_size=0.2)\n",
    "\n",
    "print(\"Full Data:\\t\" + str(X.shape))\n",
    "print(\"Train Data:\\t\" + str(X_train.shape))\n",
    "print(\"Test Data:\\t\" + str(X_test.shape))"
   ]
  },
  {
   "cell_type": "code",
   "execution_count": 3,
   "metadata": {},
   "outputs": [
    {
     "name": "stdout",
     "output_type": "stream",
     "text": [
      "MSE (Train):\t49.13\n",
      "R2 (Train):\t0.70\n",
      "MSE (Test):\t137.87\n",
      "R2 (Test):\t0.19\n"
     ]
    }
   ],
   "source": [
    "lr = LinearRegression()\n",
    "lr.fit(X_train, y_train)\n",
    "predictions_training = lr.predict(X_train)\n",
    "predictions_testing = lr.predict(X_test)\n",
    "\n",
    "print(\"MSE (Train):\\t%.2f\" % metrics.mean_squared_error(y_train, predictions_training))\n",
    "print(\"R2 (Train):\\t%.2f\" % metrics.r2_score(y_train, predictions_training))\n",
    "print(\"MSE (Test):\\t%.2f\" % metrics.mean_squared_error(y_test, predictions_testing))\n",
    "print(\"R2 (Test):\\t%.2f\" % metrics.r2_score(y_test, predictions_testing))"
   ]
  },
  {
   "cell_type": "code",
   "execution_count": 4,
   "metadata": {},
   "outputs": [
    {
     "name": "stdout",
     "output_type": "stream",
     "text": [
      "True y\tPredicted y\tDifference\n",
      "28.00\t38.76\t\t10.76\n",
      "26.00\t33.58\t\t7.58\n",
      "46.00\t40.35\t\t5.65\n",
      "30.00\t29.81\t\t0.19\n",
      "73.00\t49.29\t\t23.71\n",
      "24.00\t25.84\t\t1.84\n",
      "60.00\t57.76\t\t2.24\n",
      "66.00\t39.34\t\t26.66\n",
      "39.00\t49.25\t\t10.25\n",
      "55.00\t55.37\t\t0.37\n",
      "26.00\t35.57\t\t9.57\n",
      "38.00\t39.19\t\t1.19\n",
      "47.00\t47.61\t\t0.61\n",
      "28.00\t26.98\t\t1.02\n",
      "33.00\t45.35\t\t12.35\n",
      "48.00\t42.03\t\t5.97\n",
      "39.00\t57.27\t\t18.27\n",
      "42.00\t53.23\t\t11.23\n",
      "47.00\t48.81\t\t1.81\n",
      "33.00\t42.93\t\t9.93\n"
     ]
    }
   ],
   "source": [
    "print(\"True y\\tPredicted y\\tDifference\")\n",
    "for i in range(20):\n",
    "    print(\"%.2f\\t%.2f\\t\\t%.2f\" % (y_test[i],\n",
    "                                  predictions_testing[i],\n",
    "                                  np.absolute(y_test[i]-predictions_testing[i])))"
   ]
  },
  {
   "cell_type": "code",
   "execution_count": 5,
   "metadata": {},
   "outputs": [
    {
     "data": {
      "text/plain": [
       "36.54519929245015"
      ]
     },
     "execution_count": 5,
     "metadata": {},
     "output_type": "execute_result"
    }
   ],
   "source": [
    "lr.intercept_"
   ]
  },
  {
   "cell_type": "code",
   "execution_count": 6,
   "metadata": {},
   "outputs": [
    {
     "data": {
      "text/plain": [
       "array([ 0.56371803, -0.95548526,  0.19067823, -0.36089999,  0.38437845,\n",
       "       -0.81423641,  0.1187033 ,  0.72892266,  1.34978233,  0.69642174,\n",
       "       -1.40272127,  0.35439803, -0.53511023,  1.00144011, -0.6144849 ,\n",
       "       -0.57329235,  0.43938737,  2.63586881, -0.72624087,  0.59997808,\n",
       "        0.05611618,  1.16401283, -0.25210264,  0.39548849, -0.48411463,\n",
       "       -1.14848519, -1.14511936,  0.52544997, -0.26414549, -0.37466151,\n",
       "        1.43870298,  0.7675364 ,  0.42234131, -0.03065613,  0.31259466,\n",
       "        0.46817891,  0.07923415,  0.42483803, -0.34046917, -0.62101777,\n",
       "        0.22212858, -0.24183938,  0.97275176, -0.26132589,  0.02684724,\n",
       "       -1.15894199,  0.17907599,  0.45010604,  0.55743003,  2.04434757,\n",
       "        0.00654338,  1.5075983 ,  0.8249    , -0.66914351,  1.6169314 ,\n",
       "       -0.06016968,  0.55196656, -1.1630752 , -1.34674715, -1.59724272,\n",
       "        2.72901577,  0.5262241 ,  1.23683314, -0.32303294,  0.64139227,\n",
       "        2.02247778,  0.05689808,  0.44129794, -0.04001533,  1.82396681,\n",
       "       -0.44554567,  2.5662282 ,  1.89311093,  0.04735628,  0.3412058 ,\n",
       "        0.47581338,  0.71044701, -1.3530544 , -0.09294144,  0.5252765 ,\n",
       "       -0.18198292, -0.12208718, -1.21213711,  0.44310438,  1.38867381,\n",
       "       -0.01069296,  0.10291263, -0.09413044,  0.37862016, -0.92429972,\n",
       "       -2.05944541, -1.00653245,  0.18226807,  0.3608611 ,  0.49999384,\n",
       "       -0.32593072,  0.51971069,  0.53970704,  0.77728988, -1.73498631,\n",
       "        0.09319734,  0.26927434, -1.41781253, -0.62256586, -0.51375504,\n",
       "       -0.05448587, -0.75812638,  0.31760924,  0.30618092, -0.0942753 ,\n",
       "        0.55048497, -1.40210183,  1.08755212, -1.47461646, -0.81329965,\n",
       "        0.91822418, -1.20784604,  0.61821986,  1.66896748,  0.74339397,\n",
       "       -0.14180874, -0.16730512,  1.64914506,  0.96963739, -2.04998834,\n",
       "       -0.58627738,  0.75705076,  2.20144075,  1.1529311 , -0.39546287,\n",
       "        0.52776717, -2.75061908, -0.7457828 , -1.16761836, -0.23671001,\n",
       "       -0.14208718, -0.02935273,  0.26898488, -1.82760324,  0.82500327,\n",
       "        0.15137278,  0.08898591, -1.82600971, -0.82003811, -0.41021493,\n",
       "        1.65382916,  0.70646469, -0.73212555, -1.05753776])"
      ]
     },
     "execution_count": 6,
     "metadata": {},
     "output_type": "execute_result"
    }
   ],
   "source": [
    "lr.coef_"
   ]
  },
  {
   "cell_type": "markdown",
   "metadata": {},
   "source": [
    "## Exercise 4.1\n",
    "Implement a 10-fold cross-validation for the plant data from this hands-on and compute the average $MSE$ and $R^2$ and its standard deviations across all folds. Do the results differ between training and testing? Are the results similar to a simple train/test split? "
   ]
  },
  {
   "cell_type": "code",
   "execution_count": 7,
   "metadata": {},
   "outputs": [
    {
     "name": "stdout",
     "output_type": "stream",
     "text": [
      "MSE (Train): 54.22 (+- 1.56)\n",
      "R2 (Train): 0.67 (+- 0.01)\n",
      "\n",
      "MSE (Test): 109.34 (+- 20.32)\n",
      "R2 (Test): 0.32 (+- 0.13)\n",
      "\n"
     ]
    },
    {
     "data": {
      "image/png": "[encoded data removed]",
      "text/plain": [
       "<Figure size 432x288 with 1 Axes>"
      ]
     },
     "metadata": {
      "needs_background": "light"
     },
     "output_type": "display_data"
    }
   ],
   "source": [
    "from sklearn.model_selection import KFold\n",
    "\n",
    "kf = KFold(n_splits=10)\n",
    "\n",
    "train_mse = []\n",
    "test_mse = []\n",
    "train_r2 = []\n",
    "test_r2 = []\n",
    "\n",
    "for train_index, test_index in kf.split(X,y):\n",
    "    X_train = X[train_index]\n",
    "    X_test = X[test_index]\n",
    "    y_train = y[train_index]\n",
    "    y_test = y[test_index]\n",
    "    \n",
    "    #train Model \n",
    "    lr = LinearRegression()\n",
    "    lr.fit(X_train, y_train) \n",
    "    y_prediction = lr.predict(X_test)\n",
    "    test_mse.append(metrics.mean_squared_error(y_test,y_prediction))\n",
    "    test_r2.append(metrics.r2_score(y_test,y_prediction))\n",
    "    #Training Performance\n",
    "    y_prediction = lr.predict(X_train)\n",
    "    train_mse.append(metrics.mean_squared_error(y_train,y_prediction))\n",
    "    train_r2.append(metrics.explained_variance_score(y_train,y_prediction))\n",
    "\n",
    "\n",
    "    \n",
    "test_mse = np.array(test_mse)\n",
    "train_mse = np.array(train_mse)\n",
    "test_r2 = np.array(test_r2)\n",
    "train_r2 = np.array(train_r2)\n",
    "\n",
    "#Optional Box Plot\n",
    "pl.boxplot(np.column_stack([train_mse,test_mse]))\n",
    "\n",
    "print(\"MSE (Train): %.2f (+- %.2f)\" % (train_mse.mean(),train_mse.std()))\n",
    "print(\"R2 (Train): %.2f (+- %.2f)\" % (train_r2.mean(),train_r2.std()))\n",
    "print()\n",
    "print(\"MSE (Test): %.2f (+- %.2f)\" % (test_mse.mean(),test_mse.std()))\n",
    "print(\"R2 (Test): %.2f (+- %.2f)\" % (test_r2.mean(),test_r2.std()))\n",
    "print()"
   ]
  },
  {
   "cell_type": "markdown",
   "metadata": {},
   "source": [
    "**Solution: The results do only differ slightly between the cross-validation and the train/test split. The deviations are within the standard deviation and are very similar. The predictions are not perfect and the $R^2$ value is for the testing data much smaller compared to the training. This and the larger $MSE$ suggests that the model does not generalise very well on new data. However, predictions are better than just predicting the mean value.**"
   ]
  },
  {
   "cell_type": "markdown",
   "metadata": {},
   "source": [
    "## Exercise 4.2\n",
    "We will simulate some data with 100 samples and one feature, as shown in the following code:"
   ]
  },
  {
   "cell_type": "code",
   "execution_count": 73,
   "metadata": {},
   "outputs": [
    {
     "data": {
      "text/plain": [
       "<matplotlib.legend.Legend at 0x7f8aee882d68>"
      ]
     },
     "execution_count": 73,
     "metadata": {},
     "output_type": "execute_result"
    },
    {
     "data": {
      "image/png": "[encoded data removed]",
      "text/plain": [
       "<Figure size 432x288 with 1 Axes>"
      ]
     },
     "metadata": {
      "needs_background": "light"
     },
     "output_type": "display_data"
    }
   ],
   "source": [
    "from sklearn.datasets import make_regression\n",
    "\n",
    "x_d,y_d = make_regression(n_samples=100, n_features=1, \n",
    "                      n_informative=1, \n",
    "                      noise = 30, bias=10,\n",
    "                      random_state=42)\n",
    "\n",
    "X_train, X_test, y_train, y_test = train_test_split(x_d,y_d, test_size=0.3)\n",
    "\n",
    "pl.scatter(X_train,y_train,zorder=30,alpha=0.7,label=\"Training\")\n",
    "pl.scatter(X_test,y_test,zorder=30,alpha=0.7,label=\"Testing\")\n",
    "pl.grid(color=\"#AAAAAA\")\n",
    "pl.xlabel(\"Feature 1\")\n",
    "pl.ylabel(\"y-values\")\n",
    "pl.legend()"
   ]
  },
  {
   "cell_type": "markdown",
   "metadata": {},
   "source": [
    "We have seperated the data into a training set of 70 samples and a testing set of 30 samples. You should first implement the linear regression model yourself (without using sklearn). Therefore, you should first write a function to estimate the $\\beta$ values for a given data-matrix $X$ and target values $y$.  \n",
    "\n",
    "Hint you have to integrate a columns of ones to the x data when you would like to use linear algebra for estimating the $\\beta$'s. This can be done by using the function `np.column_stack`, e.g. `A = np.column_stack([np.ones(4),[2,3,4,5]])` will generate the matrix:\n",
    "\n",
    "[[1., 2.],  \n",
    " [1., 3.],  \n",
    " [1., 4.],  \n",
    " [1., 5.]]\n",
    "     "
   ]
  },
  {
   "cell_type": "code",
   "execution_count": 74,
   "metadata": {},
   "outputs": [],
   "source": [
    "def estimate_betas(x,y):\n",
    "    #Write your code here\n",
    "    X = np.column_stack([np.ones(x.shape[0]),x]) \n",
    "    betas = np.linalg.inv((X.T).dot(X)).dot(X.T).dot(y)\n",
    "    #return betas\n",
    "    return betas"
   ]
  },
  {
   "cell_type": "markdown",
   "metadata": {},
   "source": [
    "Next write a function with the name `predict` to compute the $\\hat y$ values for a given data matrix $x$:"
   ]
  },
  {
   "cell_type": "code",
   "execution_count": 75,
   "metadata": {},
   "outputs": [],
   "source": [
    "def predict(x,betas):\n",
    "    #your code comes here\n",
    "    X = np.column_stack([np.ones(x.shape[0]),x]) \n",
    "    y_hat = X.dot(betas)\n",
    "    #return predictions\n",
    "    return y_hat"
   ]
  },
  {
   "cell_type": "markdown",
   "metadata": {},
   "source": [
    "Now implement from scratch (without using sklearn) two performance measures, the root mean squared error and the $R^2$ score:"
   ]
  },
  {
   "cell_type": "code",
   "execution_count": 76,
   "metadata": {},
   "outputs": [],
   "source": [
    "def root_mean_squared_error(y_true,y_pred):\n",
    "    #Your code comes here\n",
    "    se = (y_true-y_pred)**2\n",
    "    sse = se.sum()\n",
    "    mse = 1/len(y_true) * sse\n",
    "    rmse = np.sqrt(mse)\n",
    "    #return rmse\n",
    "    return rmse\n",
    "\n",
    "def r2_score(y_true,y_pred):\n",
    "    #your code comes here\n",
    "    sse = ((y_true-y_pred)**2).sum()\n",
    "    ssm = ((y_pred-y_true.mean())**2).sum()\n",
    "    r2 = 1-(sse/ssm)\n",
    "    #return r2\n",
    "    return r2"
   ]
  },
  {
   "cell_type": "markdown",
   "metadata": {},
   "source": [
    "Finally run the following code to test your implementations. The code will first estimate the $\\beta$'s using the training data. Next it will predict $\\hat y$ using the testing data. The $R^2$ and $RMSE$ value are the computed between the predictions and fitted regression line. Finally, we plot the training and testing points and visualize the line that we have estimated:"
   ]
  },
  {
   "cell_type": "code",
   "execution_count": 80,
   "metadata": {},
   "outputs": [
    {
     "data": {
      "text/plain": [
       "Text(1.1, -70, 'R2=0.65')"
      ]
     },
     "execution_count": 80,
     "metadata": {},
     "output_type": "execute_result"
    },
    {
     "data": {
      "image/png": "[encoded data removed]",
      "text/plain": [
       "<Figure size 432x288 with 1 Axes>"
      ]
     },
     "metadata": {
      "needs_background": "light"
     },
     "output_type": "display_data"
    }
   ],
   "source": [
    "#Estimate betas\n",
    "betas = estimate_betas(X_train,y_train)\n",
    "\n",
    "#compute predictions on test data\n",
    "y_hat = predict(X_test,betas)\n",
    "\n",
    "#compute RMSE and r2\n",
    "r2 = r2_score(y_test,y_hat)\n",
    "rmse = root_mean_squared_error(y_test,y_hat)\n",
    "\n",
    "#plot regression line for an array of x-values\n",
    "xs = np.linspace(-3,3,100)\n",
    "ys = predict(xs, betas)\n",
    "\n",
    "pl.plot(xs,ys,color=\"orange\")\n",
    "pl.scatter(X_train,y_train,zorder=30,alpha=0.7,label=\"Training\")\n",
    "pl.scatter(X_test,y_test,zorder=30,alpha=0.7,label=\"Testing\")\n",
    "pl.grid(color=\"#AAAAAA\")\n",
    "pl.xlabel(\"Feature 1\")\n",
    "pl.ylabel(\"y-values\")\n",
    "pl.legend()\n",
    "pl.title(\"Beta0=%.2f, Beta1=%.2f\" % (betas[0],betas[1]))\n",
    "pl.text(1.1,-90,\"RMSE=%.2f\" % rmse)\n",
    "pl.text(1.1,-70,\"R2=%.2f\" % r2)"
   ]
  }
 ],
 "metadata": {
  "kernelspec": {
   "display_name": "Python 3",
   "language": "python",
   "name": "python3"
  },
  "language_info": {
   "codemirror_mode": {
    "name": "ipython",
    "version": 3
   },
   "file_extension": ".py",
   "mimetype": "text/x-python",
   "name": "python",
   "nbconvert_exporter": "python",
   "pygments_lexer": "ipython3",
   "version": "3.6.9"
  }
 },
 "nbformat": 4,
 "nbformat_minor": 2
}
