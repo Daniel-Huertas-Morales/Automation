{
 "cells": [
  {
   "cell_type": "markdown",
   "metadata": {},
   "source": [
    "# Exercise #4: Linear Regression\n",
    "The first part of this exercise shows the content of the Hands-On Tutorial. We will use some of the data again for the exercises below."
   ]
  },
  {
   "cell_type": "code",
   "execution_count": 1,
   "metadata": {},
   "outputs": [
    {
     "name": "stdout",
     "output_type": "stream",
     "text": [
      "#Samples:\t697\n",
      "#Features:\t149\n",
      "Mean y:\t\t38.80\n"
     ]
    },
    {
     "data": {
      "image/png": "[encoded data removed]",
      "text/plain": [
       "<Figure size 432x288 with 1 Axes>"
      ]
     },
     "metadata": {
      "needs_background": "light"
     },
     "output_type": "display_data"
    }
   ],
   "source": [
    "%matplotlib inline \n",
    "import numpy as np\n",
    "import pylab as pl\n",
    "\n",
    "#Load data\n",
    "X = np.loadtxt(\"plant_genotype.csv\", delimiter=\",\")\n",
    "y = np.loadtxt(\"plant_flowering_time.csv\")\n",
    "\n",
    "print(\"#Samples:\\t\" + str(X.shape[0]))\n",
    "print(\"#Features:\\t\" + str(X.shape[1]))\n",
    "\n",
    "pl.hist(y, edgecolor=\"w\", bins=20)\n",
    "print(\"Mean y:\\t\\t%.2f\" % y.mean())"
   ]
  },
  {
   "cell_type": "code",
   "execution_count": 2,
   "metadata": {},
   "outputs": [
    {
     "name": "stdout",
     "output_type": "stream",
     "text": [
      "Full Data:\t(697, 149)\n",
      "Train Data:\t(557, 149)\n",
      "Test Data:\t(140, 149)\n"
     ]
    }
   ],
   "source": [
    "import sklearn.metrics as metrics\n",
    "from sklearn.model_selection import train_test_split\n",
    "from sklearn.linear_model import LinearRegression\n",
    "\n",
    "#Split data into train and test\n",
    "X_train, X_test, y_train, y_test = train_test_split(X,y, test_size=0.2)\n",
    "\n",
    "print(\"Full Data:\\t\" + str(X.shape))\n",
    "print(\"Train Data:\\t\" + str(X_train.shape))\n",
    "print(\"Test Data:\\t\" + str(X_test.shape))"
   ]
  },
  {
   "cell_type": "code",
   "execution_count": 3,
   "metadata": {},
   "outputs": [
    {
     "name": "stdout",
     "output_type": "stream",
     "text": [
      "MSE (Train):\t57.02\n",
      "R2 (Train):\t0.66\n",
      "MSE (Test):\t82.15\n",
      "R2 (Test):\t0.44\n"
     ]
    }
   ],
   "source": [
    "lr = LinearRegression()\n",
    "lr.fit(X_train, y_train)\n",
    "predictions_training = lr.predict(X_train)\n",
    "predictions_testing = lr.predict(X_test)\n",
    "\n",
    "print(\"MSE (Train):\\t%.2f\" % metrics.mean_squared_error(y_train, predictions_training))\n",
    "print(\"R2 (Train):\\t%.2f\" % metrics.r2_score(y_train, predictions_training))\n",
    "print(\"MSE (Test):\\t%.2f\" % metrics.mean_squared_error(y_test, predictions_testing))\n",
    "print(\"R2 (Test):\\t%.2f\" % metrics.r2_score(y_test, predictions_testing))"
   ]
  },
  {
   "cell_type": "code",
   "execution_count": 4,
   "metadata": {},
   "outputs": [
    {
     "name": "stdout",
     "output_type": "stream",
     "text": [
      "True y\tPredicted y\tDifference\n",
      "26.00\t25.28\t\t0.72\n",
      "53.00\t56.24\t\t3.24\n",
      "32.00\t36.92\t\t4.92\n",
      "55.00\t57.44\t\t2.44\n",
      "31.00\t31.50\t\t0.50\n",
      "26.00\t37.38\t\t11.38\n",
      "45.00\t46.76\t\t1.76\n",
      "26.00\t48.43\t\t22.43\n",
      "24.00\t34.04\t\t10.04\n",
      "26.00\t27.20\t\t1.20\n",
      "33.00\t39.21\t\t6.21\n",
      "47.00\t42.86\t\t4.14\n",
      "43.00\t41.52\t\t1.48\n",
      "39.00\t38.44\t\t0.56\n",
      "24.00\t24.34\t\t0.34\n",
      "34.00\t36.79\t\t2.79\n",
      "33.00\t38.58\t\t5.58\n",
      "63.00\t62.83\t\t0.17\n",
      "46.00\t37.76\t\t8.24\n",
      "38.00\t47.28\t\t9.28\n"
     ]
    }
   ],
   "source": [
    "print(\"True y\\tPredicted y\\tDifference\")\n",
    "for i in range(20):\n",
    "    print(\"%.2f\\t%.2f\\t\\t%.2f\" % (y_test[i],\n",
    "                                  predictions_testing[i],\n",
    "                                  np.absolute(y_test[i]-predictions_testing[i])))"
   ]
  },
  {
   "cell_type": "code",
   "execution_count": 5,
   "metadata": {},
   "outputs": [
    {
     "data": {
      "text/plain": [
       "36.6185144299119"
      ]
     },
     "execution_count": 5,
     "metadata": {},
     "output_type": "execute_result"
    }
   ],
   "source": [
    "lr.intercept_"
   ]
  },
  {
   "cell_type": "code",
   "execution_count": 6,
   "metadata": {},
   "outputs": [
    {
     "data": {
      "text/plain": [
       "array([ 0.29143567, -0.86123008,  0.2552595 , -0.50577183,  0.42530054,\n",
       "       -0.65959406,  0.05658822,  1.51516635,  0.65543233,  0.53508286,\n",
       "        0.32932647,  0.5860826 , -1.47031058,  0.83137137, -0.78444837,\n",
       "       -0.22628929,  1.27271554,  3.78550571, -0.14493321, -0.01121607,\n",
       "       -0.21498947,  1.21701601, -0.17261671,  0.92833927, -0.49402808,\n",
       "       -1.35337784, -0.36947977,  0.14198375,  0.25071938, -0.98036337,\n",
       "        0.73738228,  0.85070464, -0.23916538,  0.01540188,  0.1679794 ,\n",
       "        0.77100583,  0.11600772,  0.01579772, -0.17196121, -0.82046732,\n",
       "       -0.0060945 , -0.66256636, -0.33612506, -0.0720868 , -0.0333238 ,\n",
       "       -1.26475818,  0.71444606,  0.45251339,  0.61470051,  2.05980102,\n",
       "       -0.2008214 ,  0.80633723,  1.14576235, -0.86849197,  1.9734602 ,\n",
       "       -0.55822365,  0.54114517, -0.85921083, -1.10997203, -1.77064455,\n",
       "        1.57549414,  1.85233725, -0.14672513, -0.00471542,  1.3945093 ,\n",
       "       -0.12247869,  0.3272135 ,  0.12295457,  0.37479544,  1.81940544,\n",
       "       -0.12503314,  2.08029907,  1.31688526,  0.54961244,  1.1456003 ,\n",
       "        0.8540644 ,  0.11149434, -1.61697325, -0.07763685,  0.74966995,\n",
       "        0.23670666,  0.45954127, -0.54822079, -0.4898446 ,  1.05081395,\n",
       "       -0.16794071,  0.4355198 ,  0.12748829,  0.00734381, -0.28359926,\n",
       "       -1.32115284, -1.51375479,  0.15339536,  0.41712662, -0.11960811,\n",
       "       -0.5017319 ,  0.82840151,  0.5636616 ,  1.26919629, -1.19669797,\n",
       "        0.92183105,  0.79460682, -0.95451024, -1.01100923, -0.77123643,\n",
       "        0.20248446, -0.89410074,  0.70131993,  0.44327444,  0.36219136,\n",
       "        0.48271502, -0.51873799,  0.76262772, -0.70866259, -0.56177854,\n",
       "        0.58155376, -1.07938364, -0.57482146,  0.34429285,  0.97943   ,\n",
       "        0.37171347,  0.34877533,  1.71943299,  0.36108243, -1.62358211,\n",
       "       -0.52909678,  1.08295903,  0.80842188,  0.56693738, -1.15441589,\n",
       "       -0.13161577, -2.73137406, -0.81848033, -0.49915142, -0.67258311,\n",
       "       -0.70559356, -0.27717714,  0.56989575, -1.91265622,  0.69996261,\n",
       "        0.09053387, -0.78630576, -1.42843989, -1.17257468, -0.34194248,\n",
       "        1.30925366,  0.75876269, -0.12613387, -0.74054631])"
      ]
     },
     "execution_count": 6,
     "metadata": {},
     "output_type": "execute_result"
    }
   ],
   "source": [
    "lr.coef_"
   ]
  },
  {
   "cell_type": "markdown",
   "metadata": {},
   "source": [
    "## Exercise 4.1\n",
    "Implement a 10-fold cross-validation for the plant data from this hands-on and compute the average $MSE$ and $R^2$ and its standard deviations across all folds. Do the results differ between training and testing? Are the results similar to a simple train/test split? "
   ]
  },
  {
   "cell_type": "code",
   "execution_count": null,
   "metadata": {},
   "outputs": [],
   "source": [
    "from sklearn.model_selection import KFold\n",
    "\n",
    "kf = KFold(n_splits=10)\n",
    "\n",
    "#Your code comes here"
   ]
  },
  {
   "cell_type": "markdown",
   "metadata": {},
   "source": []
  },
  {
   "cell_type": "markdown",
   "metadata": {},
   "source": [
    "## Exercise 4.2\n",
    "We will simulate some data with 100 samples and one feature, as shown in the following code:"
   ]
  },
  {
   "cell_type": "code",
   "execution_count": 8,
   "metadata": {},
   "outputs": [
    {
     "data": {
      "text/plain": [
       "<matplotlib.legend.Legend at 0x7f69f1c595c0>"
      ]
     },
     "execution_count": 8,
     "metadata": {},
     "output_type": "execute_result"
    },
    {
     "data": {
      "image/png": "[encoded data removed]",
      "text/plain": [
       "<Figure size 432x288 with 1 Axes>"
      ]
     },
     "metadata": {
      "needs_background": "light"
     },
     "output_type": "display_data"
    }
   ],
   "source": [
    "from sklearn.datasets import make_regression\n",
    "\n",
    "x_d,y_d = make_regression(n_samples=100, n_features=1, \n",
    "                      n_informative=1, \n",
    "                      noise = 30, bias=10,\n",
    "                      random_state=42)\n",
    "\n",
    "X_train, X_test, y_train, y_test = train_test_split(x_d,y_d, test_size=0.3)\n",
    "\n",
    "pl.scatter(X_train,y_train,zorder=30,alpha=0.7,label=\"Training\")\n",
    "pl.scatter(X_test,y_test,zorder=30,alpha=0.7,label=\"Testing\")\n",
    "pl.grid(color=\"#AAAAAA\")\n",
    "pl.xlabel(\"Feature 1\")\n",
    "pl.ylabel(\"y-values\")\n",
    "pl.legend()"
   ]
  },
  {
   "cell_type": "markdown",
   "metadata": {},
   "source": [
    "We have seperated the data into a training set of 70 samples and a testing set of 30 samples. You should first implement the linear regression model yourself (without using sklearn). Therefore, you should first write a function to estimate the $\\beta$ values for a given data-matrix $X$ and target values $y$.  \n",
    "\n",
    "Hint you have to integrate a columns of ones to the x data when you would like to use linear algebra for estimating the $\\beta$'s. This can be done by using the function `np.column_stack`, e.g. `A = np.column_stack([np.ones(4),[2,3,4,5]])` will generate the matrix:\n",
    "\n",
    "[[1., 2.],  \n",
    " [1., 3.],  \n",
    " [1., 4.],  \n",
    " [1., 5.]]\n",
    "     "
   ]
  },
  {
   "cell_type": "code",
   "execution_count": null,
   "metadata": {},
   "outputs": [],
   "source": [
    "def estimate_betas(x,y):\n",
    "    #Write your code here\n",
    "\n",
    "    #return betas\n",
    "    return betas"
   ]
  },
  {
   "cell_type": "markdown",
   "metadata": {},
   "source": [
    "Next write a function with the name `predict` to compute the $\\hat y$ values for a given data matrix $x$:"
   ]
  },
  {
   "cell_type": "code",
   "execution_count": null,
   "metadata": {},
   "outputs": [],
   "source": [
    "def predict(x,betas):\n",
    "    #your code comes here\n",
    "\n",
    "    #return predictions\n",
    "    return y_hat"
   ]
  },
  {
   "cell_type": "markdown",
   "metadata": {},
   "source": [
    "Now implement from scratch (without using sklearn) two performance measures, the root mean squared error and the $R^2$ score:"
   ]
  },
  {
   "cell_type": "code",
   "execution_count": null,
   "metadata": {},
   "outputs": [],
   "source": [
    "def root_mean_squared_error(y_true,y_pred):\n",
    "    #Your code comes here\n",
    "\n",
    "    #return rmse\n",
    "    return rmse\n",
    "\n",
    "def r2_score(y_true,y_pred):\n",
    "    #your code comes here\n",
    "\n",
    "    #return r2\n",
    "    return r2"
   ]
  },
  {
   "cell_type": "markdown",
   "metadata": {},
   "source": [
    "Finally run the following code to test your implementations. The code will first estimate the $\\beta$'s using the training data. Next it will predict $\\hat y$ using the testing data. The $R^2$ and $RMSE$ value are the computed between the predictions and fitted regression line. Finally, we plot the training and testing points and visualize the line that we have estimated:"
   ]
  },
  {
   "cell_type": "code",
   "execution_count": null,
   "metadata": {},
   "outputs": [],
   "source": [
    "#Estimate betas\n",
    "betas = estimate_betas(X_train,y_train)\n",
    "\n",
    "#compute predictions on test data\n",
    "y_hat = predict(X_test,betas)\n",
    "\n",
    "#compute RMSE and r2\n",
    "r2 = r2_score(y_test,y_hat)\n",
    "rmse = root_mean_squared_error(y_test,y_hat)\n",
    "\n",
    "#plot regression line for an array of x-values\n",
    "xs = np.linspace(-3,3,100)\n",
    "ys = predict(xs, betas)\n",
    "\n",
    "pl.plot(xs,ys,color=\"orange\")\n",
    "pl.scatter(X_train,y_train,zorder=30,alpha=0.7,label=\"Training\")\n",
    "pl.scatter(X_test,y_test,zorder=30,alpha=0.7,label=\"Testing\")\n",
    "pl.grid(color=\"#AAAAAA\")\n",
    "pl.xlabel(\"Feature 1\")\n",
    "pl.ylabel(\"y-values\")\n",
    "pl.legend()\n",
    "pl.title(\"Beta0=%.2f, Beta1=%.2f\" % (betas[0],betas[1]))\n",
    "pl.text(1.1,-90,\"RMSE=%.2f\" % rmse)\n",
    "pl.text(1.1,-70,\"R2=%.2f\" % r2)"
   ]
  }
 ],
 "metadata": {
  "kernelspec": {
   "display_name": "Python 3",
   "language": "python",
   "name": "python3"
  },
  "language_info": {
   "codemirror_mode": {
    "name": "ipython",
    "version": 3
   },
   "file_extension": ".py",
   "mimetype": "text/x-python",
   "name": "python",
   "nbconvert_exporter": "python",
   "pygments_lexer": "ipython3",
   "version": "3.6.9"
  }
 },
 "nbformat": 4,
 "nbformat_minor": 2
}
