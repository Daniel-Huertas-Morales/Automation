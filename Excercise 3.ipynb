{
 "cells": [
  {
   "cell_type": "code",
   "execution_count": 10,
   "metadata": {},
   "outputs": [
    {
     "name": "stdout",
     "output_type": "stream",
     "text": [
      "[3. 4.]\n",
      "[[3.         3.87298335]\n",
      " [3.         4.        ]]\n",
      "\n",
      "[0.55199813 0.56825307 0.13947549 ... 0.8921134  0.09476743 0.25801747]\n",
      "Computation Time Naive :  0.000000 s \n"
     ]
    },
    {
     "ename": "MemoryError",
     "evalue": "Unable to allocate 728. TiB for an array with shape (10000000, 10000000) and data type float64",
     "output_type": "error",
     "traceback": [
      "\u001b[1;31m---------------------------------------------------------------------------\u001b[0m",
      "\u001b[1;31mMemoryError\u001b[0m                               Traceback (most recent call last)",
      "Cell \u001b[1;32mIn[10], line 36\u001b[0m\n\u001b[0;32m     33\u001b[0m \u001b[39mprint\u001b[39m ( \u001b[39m\"\u001b[39m\u001b[39mComputation Time Naive : \u001b[39m\u001b[39m% f\u001b[39;00m\u001b[39m s \u001b[39m\u001b[39m\"\u001b[39m \u001b[39m%\u001b[39m delta)\n\u001b[0;32m     35\u001b[0m start \u001b[39m=\u001b[39m time \u001b[39m.\u001b[39m process_time ( )\n\u001b[1;32m---> 36\u001b[0m \u001b[39mprint\u001b[39m (euclidean_distance_dot( a , b ) )\n\u001b[0;32m     37\u001b[0m delta \u001b[39m=\u001b[39m ( time \u001b[39m.\u001b[39m process_time() \u001b[39m-\u001b[39m start )\n\u001b[0;32m     38\u001b[0m \u001b[39mprint\u001b[39m ( \u001b[39m\"\u001b[39m\u001b[39mComputation Time Fast : \u001b[39m\u001b[39m% f\u001b[39;00m\u001b[39m s \u001b[39m\u001b[39m\"\u001b[39m \u001b[39m%\u001b[39m delta)\n",
      "Cell \u001b[1;32mIn[10], line 12\u001b[0m, in \u001b[0;36meuclidean_distance_dot\u001b[1;34m(a, b)\u001b[0m\n\u001b[0;32m     11\u001b[0m \u001b[39mdef\u001b[39;00m \u001b[39meuclidean_distance_dot\u001b[39m(a, b): \n\u001b[1;32m---> 12\u001b[0m     \u001b[39mreturn\u001b[39;00m ((a\u001b[39m.\u001b[39;49mT)\u001b[39m.\u001b[39;49mdot(a) \u001b[39m-\u001b[39m \u001b[39m2\u001b[39m\u001b[39m*\u001b[39m(a\u001b[39m.\u001b[39mT)\u001b[39m.\u001b[39mdot(b) \u001b[39m+\u001b[39m (b\u001b[39m.\u001b[39mT)\u001b[39m.\u001b[39mdot(b))\u001b[39m*\u001b[39m\u001b[39m*\u001b[39m(\u001b[39m1\u001b[39m\u001b[39m/\u001b[39m\u001b[39m2\u001b[39m)\n",
      "\u001b[1;31mMemoryError\u001b[0m: Unable to allocate 728. TiB for an array with shape (10000000, 10000000) and data type float64"
     ]
    }
   ],
   "source": [
    "import numpy as np \n",
    "import time \n",
    "def euclidean_distance_naive(a,b): \n",
    "    dist=0\n",
    "    for i in range(a.shape[0]):\n",
    "        dist=dist+(a[i]-b[i])**2\n",
    "\n",
    "    return np.sqrt((dist))\n",
    "\n",
    "\n",
    "def euclidean_distance_dot(a, b): \n",
    "    return ((a.T).dot(a) - 2*(a.T).dot(b) + (b.T).dot(b))**(1/2)\n",
    "\n",
    "\n",
    "#Simple Test with row vector s of size 1 x 2 \n",
    "a = np . array ( [ [ 3 , 5 ] ] )\n",
    "b = np . array ( [ [ 6 , 9 ] ] )\n",
    "print ( euclidean_distance_naive( a , b ) )\n",
    "print ( euclidean_distance_dot ( a , b ) )\n",
    "print ( )\n",
    "#Test with random row vectors of size 1x10 Million\n",
    "#Random numbers with seed\n",
    "np . random. seed (42)\n",
    "m = 10**7 #10 Million Features\n",
    "a = np . random. random((1,m))\n",
    "b = np . random. random((1,m))\n",
    "#s top time o f computation\n",
    "start = time.process_time()\n",
    "#compute distance\n",
    "\n",
    "delta = ( time .process_time ()- start )\n",
    "print (euclidean_distance_naive ( a , b ) )\n",
    "print ( \"Computation Time Naive : % f s \" % delta)\n",
    "\n",
    "start = time . process_time ( )\n",
    "print (euclidean_distance_dot( a , b ) )\n",
    "delta = ( time . process_time() - start )\n",
    "print ( \"Computation Time Fast : % f s \" % delta)"
   ]
  },
  {
   "cell_type": "code",
   "execution_count": 11,
   "metadata": {},
   "outputs": [
    {
     "ename": "ModuleNotFoundError",
     "evalue": "No module named 'requests'",
     "output_type": "error",
     "traceback": [
      "\u001b[1;31m---------------------------------------------------------------------------\u001b[0m",
      "\u001b[1;31mModuleNotFoundError\u001b[0m                       Traceback (most recent call last)",
      "Cell \u001b[1;32mIn[11], line 3\u001b[0m\n\u001b[0;32m      1\u001b[0m get_ipython()\u001b[39m.\u001b[39mrun_line_magic(\u001b[39m'\u001b[39m\u001b[39mmatplotlib\u001b[39m\u001b[39m'\u001b[39m, \u001b[39m'\u001b[39m\u001b[39minline\u001b[39m\u001b[39m'\u001b[39m)\n\u001b[0;32m      2\u001b[0m \u001b[39mimport\u001b[39;00m \u001b[39msklearn\u001b[39;00m \u001b[39m.\u001b[39m datasets \u001b[39mas\u001b[39;00m datasets\n\u001b[1;32m----> 3\u001b[0m \u001b[39mimport\u001b[39;00m \u001b[39mpylab\u001b[39;00m \u001b[39mas\u001b[39;00m \u001b[39mpl\u001b[39;00m\n\u001b[0;32m      4\u001b[0m \u001b[39m# Simulate Toy Dataset\u001b[39;00m\n\u001b[0;32m      5\u001b[0m X , y \u001b[39m=\u001b[39m datasets \u001b[39m.\u001b[39m make_circles ( n_samples \u001b[39m=\u001b[39m\u001b[39m150\u001b[39m , shuffle \u001b[39m=\u001b[39m\u001b[39mTrue\u001b[39;00m ,\n\u001b[0;32m      6\u001b[0m noise \u001b[39m=\u001b[39m\u001b[39m0.2\u001b[39m , random_state \u001b[39m=\u001b[39m\u001b[39m42\u001b[39m ,\n\u001b[0;32m      7\u001b[0m factor \u001b[39m=\u001b[39m\u001b[39m0.1\u001b[39m)\n",
      "File \u001b[1;32mc:\\Users\\dh199\\AppData\\Local\\Programs\\Python\\Python310\\lib\\site-packages\\pylab\\__init__.py:1\u001b[0m\n\u001b[1;32m----> 1\u001b[0m \u001b[39mimport\u001b[39;00m \u001b[39mrequests\u001b[39;00m\n\u001b[0;32m      2\u001b[0m \u001b[39mfrom\u001b[39;00m \u001b[39murllib3\u001b[39;00m\u001b[39m.\u001b[39;00m\u001b[39mutil\u001b[39;00m\u001b[39m.\u001b[39;00m\u001b[39mretry\u001b[39;00m \u001b[39mimport\u001b[39;00m Retry\n\u001b[0;32m      3\u001b[0m \u001b[39mfrom\u001b[39;00m \u001b[39mrequests\u001b[39;00m\u001b[39m.\u001b[39;00m\u001b[39madapters\u001b[39;00m \u001b[39mimport\u001b[39;00m HTTPAdapter\n",
      "\u001b[1;31mModuleNotFoundError\u001b[0m: No module named 'requests'"
     ]
    }
   ],
   "source": [
    "%matplotlib inline\n",
    "import sklearn . datasets as datasets\n",
    "import pylab as pl\n",
    "# Simulate Toy Dataset\n",
    "X , y = datasets . make_circles ( n_samples =150 , shuffle =True ,\n",
    "noise =0.2 , random_state =42 ,\n",
    "factor =0.1)\n"
   ]
  },
  {
   "cell_type": "code",
   "execution_count": null,
   "metadata": {},
   "outputs": [],
   "source": [
    "#Implement K-NN\n",
    "def knn_predict(X,y,query_point,k):\n",
    "    distances=[] \n",
    "    for i in range(x.shape[0]):\n",
    "        d=euclidean_distance_dot(X[i,:],query_point)\n",
    "        distances.append(d)\n",
    "    print(distances)"
   ]
  }
 ],
 "metadata": {
  "kernelspec": {
   "display_name": "Python 3",
   "language": "python",
   "name": "python3"
  },
  "language_info": {
   "codemirror_mode": {
    "name": "ipython",
    "version": 3
   },
   "file_extension": ".py",
   "mimetype": "text/x-python",
   "name": "python",
   "nbconvert_exporter": "python",
   "pygments_lexer": "ipython3",
   "version": "3.10.0"
  },
  "orig_nbformat": 4
 },
 "nbformat": 4,
 "nbformat_minor": 2
}
