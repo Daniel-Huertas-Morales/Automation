{
 "cells": [
  {
   "attachments": {},
   "cell_type": "markdown",
   "metadata": {},
   "source": [
    "# AI for Biotechnology\n",
    "<span style=\"color:#AAA;font-size:14px;\" >Prof. Dr. Dominik Grimm</span>  \n",
    "<span style=\"color:#AAA;font-size:14px;\">Bioinformatics Research Lab</span>  \n",
    "<span style=\"color:#AAA;font-size:14px;\">TUM Campus Straubing for Biotechnology and Sustainability</span>  \n",
    "\n",
    "## Principal Component Analysis from Scratch #8\n",
    "Familiarize yourself with the Iris Flower Dataset. Here you can find a description of the data: https://en.wikipedia.org/wiki/Iris_flower_data_set\n",
    "\n",
    "We will first load the data:"
   ]
  },
  {
   "cell_type": "code",
   "execution_count": 1,
   "metadata": {},
   "outputs": [
    {
     "name": "stdout",
     "output_type": "stream",
     "text": [
      "No Samples:\t150\n",
      "No Features:\t4\n",
      "Feature Names:\t['sepal length (cm)', 'sepal width (cm)', 'petal length (cm)', 'petal width (cm)']\n",
      "\n",
      "No of classes:\t3\n",
      "Class Names:\t['setosa' 'versicolor' 'virginica']\n"
     ]
    }
   ],
   "source": [
    "%matplotlib inline\n",
    "import pylab as pl\n",
    "import numpy as np\n",
    "from sklearn.datasets import load_iris\n",
    "\n",
    "data = load_iris()\n",
    "X = data.data\n",
    "y = data.target\n",
    "\n",
    "print(\"No Samples:\\t%d\" % X.shape[0])\n",
    "print(\"No Features:\\t%d\" % X.shape[1])\n",
    "print(\"Feature Names:\\t\" + str(data.feature_names))\n",
    "print()\n",
    "print(\"No of classes:\\t%d\" % np.unique(y).shape[0])\n",
    "print(\"Class Names:\\t\" + str(data.target_names))"
   ]
  },
  {
   "attachments": {},
   "cell_type": "markdown",
   "metadata": {},
   "source": [
    "The data contains three classes, one for each plant species: `setosa` (y=0), `versicolor` (y=1) and `virginica` (y=2).\n"
   ]
  },
  {
   "attachments": {},
   "cell_type": "markdown",
   "metadata": {},
   "source": [
    "\n",
    "In this example we would like to perform a principal component analysis on the iris dataset to reduce the four dimensional dataset down to a two dimensional one. For this purpose, we would like to implement a PCA from scratch."
   ]
  },
  {
   "attachments": {},
   "cell_type": "markdown",
   "metadata": {},
   "source": [
    "First standardize your data to have zero mean and unit variance and store it in a variable with the name `Xn`:"
   ]
  },
  {
   "cell_type": "code",
   "execution_count": null,
   "metadata": {},
   "outputs": [],
   "source": [
    "#We use sklearn to scale and normalize our data - what do we want to do we can explore with full data normalized\n",
    "# or combine with machine learning then we split the data\n"
   ]
  },
  {
   "attachments": {},
   "cell_type": "markdown",
   "metadata": {},
   "source": [
    "Next compute the covariance matrix on the standardized data, that is  \n",
    "\\begin{align}\n",
    "\\textbf{C} = \\frac{1}{n-1} \\textbf{X}_n^\\top \\textbf{X}_n\n",
    "\\end{align}"
   ]
  },
  {
   "cell_type": "code",
   "execution_count": null,
   "metadata": {},
   "outputs": [],
   "source": [
    "#implement the formula of the similarity matrix\n"
   ]
  },
  {
   "attachments": {},
   "cell_type": "markdown",
   "metadata": {},
   "source": [
    "Next we have to eigendecompose the matrix $\\textbf{C}$ into its eigenvalues and eigenvector. This can be done with NumPy:"
   ]
  },
  {
   "cell_type": "code",
   "execution_count": null,
   "metadata": {},
   "outputs": [],
   "source": [
    "#We compute the vector of variances and the matrix of eigenvectors (principal components)\n",
    "#We sort them in decreasing order from highest variance to lowest (explanatory features)"
   ]
  },
  {
   "attachments": {},
   "cell_type": "markdown",
   "metadata": {},
   "source": [
    "Now, we can sort the eigenvalues in decreasing order using numpy and also resort the columns of the eigenvector matrix $V$ using the indices from the sorting of the eigenvalues:"
   ]
  },
  {
   "cell_type": "code",
   "execution_count": null,
   "metadata": {},
   "outputs": [],
   "source": [
    "\n"
   ]
  },
  {
   "attachments": {},
   "cell_type": "markdown",
   "metadata": {},
   "source": [
    "Finally, we can compute a lower dimensional representation of our input data matrix using the following formula:  \n",
    "\n",
    "\\begin{align}\n",
    "\\tilde{\\textbf{X}}_r = \\textbf{X}_n\\textbf{V}_r,\n",
    "\\end{align}\n",
    "\n",
    "where $r$ is equal to 2, since we would like to restrict our data to two dimensions:"
   ]
  },
  {
   "cell_type": "code",
   "execution_count": null,
   "metadata": {},
   "outputs": [],
   "source": [
    "#We want to transform into a two dimensional space to visualize the plot\n",
    "#Our matrix using the dot product using the principal components\n"
   ]
  },
  {
   "attachments": {},
   "cell_type": "markdown",
   "metadata": {},
   "source": [
    "Now let's visualize the transformed data for the first two principal components:"
   ]
  },
  {
   "cell_type": "code",
   "execution_count": null,
   "metadata": {},
   "outputs": [],
   "source": [
    "#generate figure\n",
    "fig = pl.figure(figsize=(7,7))\n",
    "ax = fig.add_subplot(111)\n",
    "\n",
    "#your code comes here\n",
    "\n",
    "\n",
    "\n",
    "#Set axis labels\n",
    "ax.set_xlabel(\"PC 1\")\n",
    "ax.set_ylabel(\"PC 2\")\n",
    "#show grid in grey and set top and right axis to invisible\n",
    "ax.grid(color=\"#CCCCCC\")\n",
    "ax.spines['top'].set_visible(False)\n",
    "ax.spines['right'].set_visible(False)\n",
    "pl.tight_layout()"
   ]
  },
  {
   "attachments": {},
   "cell_type": "markdown",
   "metadata": {},
   "source": [
    "Extend your visualization from before and highlight all samples that belong to one of the three flower species in a different color:"
   ]
  },
  {
   "cell_type": "code",
   "execution_count": null,
   "metadata": {},
   "outputs": [],
   "source": [
    "#generate figure\n",
    "fig = pl.figure(figsize=(7,7))\n",
    "ax = fig.add_subplot(111)\n",
    "\n",
    "#your code comes here\n",
    "\n",
    "\n",
    "\n",
    "#Set axis labels\n",
    "ax.set_xlabel(\"PC 1\")\n",
    "ax.set_ylabel(\"PC 2\")\n",
    "#show grid in grey and set top and right axis to invisible\n",
    "ax.grid(color=\"#CCCCCC\")\n",
    "ax.spines['top'].set_visible(False)\n",
    "ax.spines['right'].set_visible(False)\n",
    "pl.legend()\n",
    "pl.tight_layout()"
   ]
  },
  {
   "attachments": {},
   "cell_type": "markdown",
   "metadata": {},
   "source": [
    "We now should see that the species seperate nicely, by using only the first two principle components!  \n",
    "\n",
    "Next we would like to check for how much variance the first two PCs account. This can be done by computing the ratio of variance explained using the eigenvalues:"
   ]
  },
  {
   "cell_type": "code",
   "execution_count": null,
   "metadata": {},
   "outputs": [],
   "source": [
    "#95.81% of the variance is explained by the 2 principal components\n",
    "\n",
    "\n",
    "print(\"First 2 PCs account for %.2f %% of the total variance!\" % (va*100))"
   ]
  },
  {
   "attachments": {},
   "cell_type": "markdown",
   "metadata": {},
   "source": [
    "Create a bar chart to visualize the ratio of variance explained for each PC:"
   ]
  },
  {
   "cell_type": "code",
   "execution_count": null,
   "metadata": {},
   "outputs": [],
   "source": [
    "#We can understand the distribution of the variance explained for each feature "
   ]
  },
  {
   "attachments": {},
   "cell_type": "markdown",
   "metadata": {},
   "source": [
    "Extend the bar chart from above and also show the cumulative sum of the variance explained. For this purpose you can have a look at the numpy function `np.cumsum()`:"
   ]
  },
  {
   "cell_type": "code",
   "execution_count": null,
   "metadata": {},
   "outputs": [],
   "source": [
    "#We add a line to see how the cumulative  \n"
   ]
  },
  {
   "cell_type": "code",
   "execution_count": null,
   "metadata": {},
   "outputs": [],
   "source": []
  }
 ],
 "metadata": {
  "kernelspec": {
   "display_name": "Python 3",
   "language": "python",
   "name": "python3"
  },
  "language_info": {
   "codemirror_mode": {
    "name": "ipython",
    "version": 3
   },
   "file_extension": ".py",
   "mimetype": "text/x-python",
   "name": "python",
   "nbconvert_exporter": "python",
   "pygments_lexer": "ipython3",
   "version": "3.10.0"
  }
 },
 "nbformat": 4,
 "nbformat_minor": 2
}
