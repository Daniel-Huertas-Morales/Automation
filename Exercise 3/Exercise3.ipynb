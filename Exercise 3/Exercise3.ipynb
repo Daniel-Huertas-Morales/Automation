{
 "cells": [
  {
   "cell_type": "markdown",
   "metadata": {},
   "source": [
    "# AI for Biotechnology\n",
    "<span style=\"color:#AAA;font-size:14px;\" >Prof. Dr. Dominik Grimm</span>  \n",
    "<span style=\"color:#AAA;font-size:14px;\">Bioinformatics Research Lab</span>  \n",
    "<span style=\"color:#AAA;font-size:14px;\">TUM Campus Straubing for Biotechnology and Sustainability</span>  \n",
    "\n",
    "## Exercise 3\n",
    "### Exercise 3.2 \n",
    "The following numpy matrix is given:"
   ]
  },
  {
   "cell_type": "code",
   "execution_count": null,
   "metadata": {},
   "outputs": [],
   "source": [
    "import numpy as np\n",
    "\n",
    "confusion_table = np.array([[190,210],[10,3590]])\n",
    "print(confusion_table)"
   ]
  },
  {
   "cell_type": "markdown",
   "metadata": {},
   "source": [
    "Compute accuracy, precision, recall, F1-Score, specificity, false positive rate and Matthew's Correleation Coefficient using standard Python/NumPy code and check your results by comparing the numbers to your solution from Exercise 3.1:"
   ]
  },
  {
   "cell_type": "code",
   "execution_count": null,
   "metadata": {},
   "outputs": [],
   "source": [
    "#Write down your code here\n",
    "\n",
    "print(\"Accuracy\\t\\t%.3f\" % acc)\n",
    "print(\"Precision\\t\\t%.3f\" % precision)\n",
    "print(\"Recall\\t\\t\\t%.3f\" % recall)\n",
    "print(\"F1-Score\\t\\t%.3f\" % f1)\n",
    "print(\"Specificity\\t\\t%.3f\" % specificity)\n",
    "print(\"False Positive Rate\\t%.3f\" % fpr)\n",
    "print(\"MCC\\t\\t\\t%.3f\" % mcc)"
   ]
  },
  {
   "cell_type": "markdown",
   "metadata": {},
   "source": [
    "### Exercise 3.3 \n",
    "First we will create some toy data for a binary classification problem:"
   ]
  },
  {
   "cell_type": "code",
   "execution_count": null,
   "metadata": {},
   "outputs": [],
   "source": [
    "%matplotlib inline\n",
    "import pylab as pl\n",
    "from sklearn.datasets import make_classification\n",
    "\n",
    "[X,y] = make_classification(n_samples=1000, n_features=50,n_classes=2,flip_y=0.1,\n",
    "                            class_sep=0.7,random_state=42,n_informative=20)"
   ]
  },
  {
   "cell_type": "markdown",
   "metadata": {},
   "source": [
    "#### E3.3 a)\n",
    "Write Python code to familiarize yourself with the data. How many features and samples does the dataset have? What is the ratio between the positive and the negative class?"
   ]
  },
  {
   "cell_type": "code",
   "execution_count": null,
   "metadata": {},
   "outputs": [],
   "source": [
    "#write your code here\n"
   ]
  },
  {
   "cell_type": "markdown",
   "metadata": {},
   "source": [
    "#### E3.3 b)\n",
    "Train a predictive model using k-Nearest-Neighbor classifier on the above created artificial dataset. Use for this example a Train-Val-Test split with a test- and validation size of 20%. The k-NN algorithm should use the euclidean distance (you could either use your own implementation from the last exercise or the implementation from sklearn). Performe a line-search for $k \\in \\{1,\\dots,50\\}$ and select the best performing model using the accuracy. Report at the end the selected hyperparameter, the accuracy on the validation data and on the test data. Does your model generalize on new data? Can you be certain that the results are true for a different train-val-test split?"
   ]
  },
  {
   "cell_type": "code",
   "execution_count": null,
   "metadata": {},
   "outputs": [],
   "source": [
    "from sklearn.model_selection import train_test_split \n",
    "from sklearn.neighbors import KNeighborsClassifier\n",
    "import sklearn.metrics as metrics\n",
    "\n"
   ]
  },
  {
   "cell_type": "markdown",
   "metadata": {},
   "source": [
    "#### E3.3 c)\n",
    "Implement a 5-fold stratified cross-validation with an internal line-search for $k \\in \\{1,\\dots,50\\}$ and a train-val split of 20%. Select the hyperparameters by optimizing the accuracy and retrain your model with the best $k$ for each fold. What is the mean accuracy on the validation and testing data (also report the standard deviation)? What is the mean $k$ across all folds? (Hint: The code might take some time to finish the computations $\\sim 1-2 min$)"
   ]
  },
  {
   "cell_type": "code",
   "execution_count": null,
   "metadata": {},
   "outputs": [],
   "source": [
    "from sklearn.model_selection import StratifiedKFold\n",
    "from sklearn.model_selection import GridSearchCV\n",
    "\n"
   ]
  },
  {
   "cell_type": "markdown",
   "metadata": {},
   "source": [
    "#### 3.3 d) \n",
    "Copy your code from the cross-validation experiment above and extend it with precision and recall measures for the test data. However, you should still use the accuracy to find the best performing model."
   ]
  },
  {
   "cell_type": "code",
   "execution_count": null,
   "metadata": {},
   "outputs": [],
   "source": [
    "from sklearn.model_selection import StratifiedKFold\n",
    "from sklearn.model_selection import GridSearchCV\n"
   ]
  },
  {
   "cell_type": "code",
   "execution_count": null,
   "metadata": {},
   "outputs": [],
   "source": []
  }
 ],
 "metadata": {
  "kernelspec": {
   "display_name": "Python 3",
   "language": "python",
   "name": "python3"
  },
  "language_info": {
   "codemirror_mode": {
    "name": "ipython",
    "version": 3
   },
   "file_extension": ".py",
   "mimetype": "text/x-python",
   "name": "python",
   "nbconvert_exporter": "python",
   "pygments_lexer": "ipython3",
   "version": "3.6.9"
  }
 },
 "nbformat": 4,
 "nbformat_minor": 2
}
