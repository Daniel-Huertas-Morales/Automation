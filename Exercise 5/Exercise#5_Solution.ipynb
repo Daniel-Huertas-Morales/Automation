{
 "cells": [
  {
   "cell_type": "markdown",
   "metadata": {},
   "source": [
    "# AI for Biotechnology\n",
    "<span style=\"color:#AAA;font-size:14px;\" >Prof. Dr. Dominik Grimm</span>  \n",
    "<span style=\"color:#AAA;font-size:14px;\">Bioinformatics Research Lab</span>  \n",
    "<span style=\"color:#AAA;font-size:14px;\">TUM Campus Straubing for Biotechnology and Sustainability</span>  \n",
    "\n",
    "## Logistic Regression Exercise #5\n",
    "In this exercise we would like to compare the performance of different logistic regression models with different regualrization techniques. For this purpose, we first load the data from the hands-on tutorial, where we tried to predict if a certain plant flowers early or late using its genetics differences as features. We then remove 20% of the dataset into a seperate testing dataset:"
   ]
  },
  {
   "cell_type": "code",
   "execution_count": 1,
   "metadata": {},
   "outputs": [],
   "source": [
    "%matplotlib inline\n",
    "import pylab as pl\n",
    "import numpy as np\n",
    "from sklearn import datasets\n",
    "from sklearn.model_selection import train_test_split\n",
    "\n",
    "#Load plant genotype and phenotype\n",
    "X = np.loadtxt(\"plant_genotype.csv\", delimiter=\",\")\n",
    "y = np.loadtxt(\"plant_flowering_time_binary.csv\")\n",
    "\n",
    "#create train-test split, the test data will only be used for final evaluation\n",
    "#Please note that we replace the old X and y with the \"training\" split\n",
    "X, X_test, y, y_test = train_test_split(X, y, test_size = 0.2, random_state=20)"
   ]
  },
  {
   "cell_type": "markdown",
   "metadata": {},
   "source": [
    "The testing data will remain untouch in the model selection phase and will only be used in the end, after we have selected the best performing model to test its generalization abilities.  \n",
    "\n",
    "Such that we can compare the performance of different models we will split the remaining data into a training- and validation dataset:"
   ]
  },
  {
   "cell_type": "code",
   "execution_count": 2,
   "metadata": {},
   "outputs": [],
   "source": [
    "#split data into validation and training\n",
    "X_train, X_val, y_train, y_val = train_test_split(X, y, test_size = 0.2, random_state=20)"
   ]
  },
  {
   "cell_type": "markdown",
   "metadata": {},
   "source": [
    "A simple logistic regression model without regularization serves as baseline comparison partner. We estimate coefficients of the logistic regression model on the training data and evaluate the performance on the left out validation data:"
   ]
  },
  {
   "cell_type": "code",
   "execution_count": 3,
   "metadata": {},
   "outputs": [
    {
     "name": "stdout",
     "output_type": "stream",
     "text": [
      "Accuracy (Val):\t\t0.61\n",
      "ROC-AUC (Val):\t\t0.60\n",
      "Precision (Val):\t0.58\n",
      "Recall (Val):\t\t0.54\n",
      "MCC (Val):\t\t0.21\n"
     ]
    }
   ],
   "source": [
    "from sklearn.linear_model import LogisticRegression\n",
    "import sklearn.metrics as metrics\n",
    "\n",
    "#Train Simple Linear regression without regularization\n",
    "model = LogisticRegression(penalty=\"none\",solver=\"lbfgs\")\n",
    "\n",
    "#train logistic regression\n",
    "model.fit(X_train,y_train)\n",
    "\n",
    "#test logistic regression on validation data\n",
    "y_pred = model.predict(X_val)\n",
    "\n",
    "#compute metrics\n",
    "acc = metrics.accuracy_score(y_val, y_pred)\n",
    "auc = metrics.roc_auc_score(y_val,y_pred)\n",
    "precision = metrics.precision_score(y_val,y_pred)\n",
    "recall = metrics.recall_score(y_val,y_pred)\n",
    "mcc = metrics.matthews_corrcoef(y_val,y_pred)\n",
    "\n",
    "print(\"Accuracy (Val):\\t\\t%.2f\" % acc)\n",
    "print(\"ROC-AUC (Val):\\t\\t%.2f\" % auc)\n",
    "print(\"Precision (Val):\\t%.2f\" % precision)\n",
    "print(\"Recall (Val):\\t\\t%.2f\" % recall)\n",
    "print(\"MCC (Val):\\t\\t%.2f\" % mcc)\n"
   ]
  },
  {
   "cell_type": "markdown",
   "metadata": {},
   "source": [
    "Next we plot the estimated coefficients of the model:"
   ]
  },
  {
   "cell_type": "code",
   "execution_count": 4,
   "metadata": {},
   "outputs": [
    {
     "data": {
      "text/plain": [
       "<matplotlib.collections.PathCollection at 0x7f8a39ecf2e8>"
      ]
     },
     "execution_count": 4,
     "metadata": {},
     "output_type": "execute_result"
    },
    {
     "data": {
      "image/png": "[encoded data removed]",
      "text/plain": [
       "<Figure size 432x288 with 1 Axes>"
      ]
     },
     "metadata": {
      "needs_background": "light"
     },
     "output_type": "display_data"
    }
   ],
   "source": [
    "#Plot beta estimates\n",
    "pl.scatter(np.arange(X.shape[1]),model.coef_)"
   ]
  },
  {
   "cell_type": "markdown",
   "metadata": {},
   "source": [
    "Next we train the logistic regression model using a l2-penalty with an internal cross-validation to find the optimal hyperparameter $C$. Again we plot the estiamted coefficients of the l2-lr model:"
   ]
  },
  {
   "cell_type": "code",
   "execution_count": 5,
   "metadata": {
    "scrolled": false
   },
   "outputs": [
    {
     "name": "stdout",
     "output_type": "stream",
     "text": [
      "Accuracy (Val):\t\t0.70\n",
      "ROC-AUC (Val):\t\t0.68\n",
      "Precision (Val):\t0.75\n",
      "Recall (Val):\t\t0.52\n",
      "MCC (Val):\t\t0.39\n",
      "Best C:\t\t\t0.046416\n"
     ]
    },
    {
     "data": {
      "text/plain": [
       "<matplotlib.collections.PathCollection at 0x7f8a363921d0>"
      ]
     },
     "execution_count": 5,
     "metadata": {},
     "output_type": "execute_result"
    },
    {
     "data": {
      "image/png": "[encoded data removed]",
      "text/plain": [
       "<Figure size 432x288 with 1 Axes>"
      ]
     },
     "metadata": {
      "needs_background": "light"
     },
     "output_type": "display_data"
    }
   ],
   "source": [
    "from sklearn.linear_model import LogisticRegressionCV\n",
    "\n",
    "#Train Simple Linear regression without regularization\n",
    "model2 = LogisticRegressionCV(Cs=10, penalty=\"l2\",solver=\"lbfgs\",cv=5,max_iter=2000)\n",
    "\n",
    "#train logistic regression\n",
    "model2.fit(X_train,y_train)\n",
    "\n",
    "#test logistic regression on validation data\n",
    "y_pred = model2.predict(X_val)\n",
    "\n",
    "acc2 = metrics.accuracy_score(y_val, y_pred)\n",
    "auc2 = metrics.roc_auc_score(y_val,y_pred)\n",
    "precision2 = metrics.precision_score(y_val,y_pred)\n",
    "recall2 = metrics.recall_score(y_val,y_pred)\n",
    "mcc2 = metrics.matthews_corrcoef(y_val,y_pred)\n",
    "\n",
    "\n",
    "print(\"Accuracy (Val):\\t\\t%.2f\" % acc2)\n",
    "print(\"ROC-AUC (Val):\\t\\t%.2f\" % auc2)\n",
    "print(\"Precision (Val):\\t%.2f\" % precision2)\n",
    "print(\"Recall (Val):\\t\\t%.2f\" % recall2)\n",
    "print(\"MCC (Val):\\t\\t%.2f\" % mcc2)\n",
    "print(\"Best C:\\t\\t\\t%f\" %model2.C_)\n",
    "\n",
    "#Plot beta estimates\n",
    "pl.scatter(np.arange(X.shape[1]),model2.coef_)"
   ]
  },
  {
   "cell_type": "markdown",
   "metadata": {},
   "source": [
    "## Exercise 5.1\n",
    "Train a logistic regression model with a $l1$-penalty on the training data. Use cross-validation to find the optimal hyperparameter $C$ and evaluate the performance of your model on the validation data:"
   ]
  },
  {
   "cell_type": "code",
   "execution_count": 6,
   "metadata": {},
   "outputs": [
    {
     "name": "stdout",
     "output_type": "stream",
     "text": [
      "Accuracy (Val):\t\t0.71\n",
      "ROC-AUC (Val):\t\t0.70\n",
      "Precision (Val):\t0.78\n",
      "Recall (Val):\t\t0.54\n",
      "MCC (Val):\t\t0.43\n",
      "Best C:\t\t\t0.359381\n"
     ]
    }
   ],
   "source": [
    "#Your Code comes here:\n",
    "#Train Simple Linear regression without regularization\n",
    "model3 = LogisticRegressionCV(Cs=10, penalty=\"l1\",solver=\"liblinear\",cv=5,max_iter=2000)\n",
    "\n",
    "#train logistic regression\n",
    "model3.fit(X_train,y_train)\n",
    "\n",
    "#test logistic regression on validation data\n",
    "y_pred = model3.predict(X_val)\n",
    "\n",
    "acc3 = metrics.accuracy_score(y_val, y_pred)\n",
    "auc3 = metrics.roc_auc_score(y_val,y_pred)\n",
    "precision3 = metrics.precision_score(y_val,y_pred)\n",
    "recall3 = metrics.recall_score(y_val,y_pred)\n",
    "mcc3 = metrics.matthews_corrcoef(y_val,y_pred)\n",
    "\n",
    "print(\"Accuracy (Val):\\t\\t%.2f\" % acc3)\n",
    "print(\"ROC-AUC (Val):\\t\\t%.2f\" % auc3)\n",
    "print(\"Precision (Val):\\t%.2f\" % precision3)\n",
    "print(\"Recall (Val):\\t\\t%.2f\" % recall3)\n",
    "print(\"MCC (Val):\\t\\t%.2f\" % mcc3)\n",
    "print(\"Best C:\\t\\t\\t%f\" %model3.C_)"
   ]
  },
  {
   "cell_type": "markdown",
   "metadata": {},
   "source": [
    "Plot the estimated coefficients of the $l1$-regularized logistic regression model and interprete the plot. What do you observe?"
   ]
  },
  {
   "cell_type": "code",
   "execution_count": 7,
   "metadata": {},
   "outputs": [
    {
     "data": {
      "text/plain": [
       "<matplotlib.collections.PathCollection at 0x7f8a362fcdd8>"
      ]
     },
     "execution_count": 7,
     "metadata": {},
     "output_type": "execute_result"
    },
    {
     "data": {
      "image/png": "[encoded data removed]",
      "text/plain": [
       "<Figure size 432x288 with 1 Axes>"
      ]
     },
     "metadata": {
      "needs_background": "light"
     },
     "output_type": "display_data"
    }
   ],
   "source": [
    "#Your code comes here\n",
    "#Plot beta estimates\n",
    "pl.scatter(np.arange(X.shape[1]),model3.coef_)"
   ]
  },
  {
   "cell_type": "markdown",
   "metadata": {},
   "source": [
    "## Exercise 5.2\n",
    "Train a logistic regression model with both, a $l1$- and a $l2$-penalty on the training data. Use a 5-fold cross-validation to find the optimal hyperparameter $C$ and $l1$ ratio and evaluate the performance of your model on the validation data:"
   ]
  },
  {
   "cell_type": "code",
   "execution_count": 8,
   "metadata": {},
   "outputs": [
    {
     "name": "stdout",
     "output_type": "stream",
     "text": [
      "Accuracy (Val):\t\t0.75\n",
      "ROC-AUC (Val):\t\t0.73\n",
      "Precision (Val):\t0.93\n",
      "Recall (Val):\t\t0.50\n",
      "MCC (Val):\t\t0.54\n",
      "Best C:\t\t\t0.010000\n",
      "Best L1_Ratio:\t\t0.000000\n"
     ]
    }
   ],
   "source": [
    "#Range of hyperparameters\n",
    "Cs = 5 #use 5 C values between \n",
    "l1_ratios=[0,0.25,0.5,0.75,1.0] #tradeoff between l1 and l2 penalty\n",
    "\n",
    "#Your code comes here to train a logistic regression model with l1- and l2-penalty\n",
    "#Train Simple Linear regression without regularization\n",
    "model4 = LogisticRegressionCV(Cs=5, penalty=\"elasticnet\",solver=\"saga\",cv=5,\n",
    "                              l1_ratios=[0,0.25,0.5,0.75,1.0],max_iter=4000)\n",
    "\n",
    "#train logistic regression\n",
    "model4.fit(X_train,y_train)\n",
    "\n",
    "#test logistic regression on validation data\n",
    "y_pred = model4.predict(X_val)\n",
    "\n",
    "acc4 = metrics.accuracy_score(y_val, y_pred)\n",
    "auc4 = metrics.roc_auc_score(y_val,y_pred)\n",
    "precision4 = metrics.precision_score(y_val,y_pred)\n",
    "recall4 = metrics.recall_score(y_val,y_pred)\n",
    "mcc4 = metrics.matthews_corrcoef(y_val,y_pred)\n",
    "\n",
    "print(\"Accuracy (Val):\\t\\t%.2f\" % acc4)\n",
    "print(\"ROC-AUC (Val):\\t\\t%.2f\" % auc4)\n",
    "print(\"Precision (Val):\\t%.2f\" % precision4)\n",
    "print(\"Recall (Val):\\t\\t%.2f\" % recall4)\n",
    "print(\"MCC (Val):\\t\\t%.2f\" % mcc4)\n",
    "\n",
    "print(\"Best C:\\t\\t\\t%f\" %model4.C_)\n",
    "print(\"Best L1_Ratio:\\t\\t%f\" %model4.l1_ratio_)"
   ]
  },
  {
   "cell_type": "markdown",
   "metadata": {},
   "source": [
    "## Exercise 5.3\n",
    "Summerize the results of all 4 models in one ROC plot. Add labels and legends to the plot such that you can compare the different models. Which model performs best?"
   ]
  },
  {
   "cell_type": "code",
   "execution_count": 9,
   "metadata": {},
   "outputs": [
    {
     "data": {
      "image/png": "[encoded data removed]",
      "text/plain": [
       "<Figure size 360x360 with 1 Axes>"
      ]
     },
     "metadata": {
      "needs_background": "light"
     },
     "output_type": "display_data"
    }
   ],
   "source": [
    "#generate roc plot\n",
    "fig = pl.figure(figsize=(5,5))\n",
    "ax = fig.add_subplot(111)\n",
    "\n",
    "#for roc curve for lr without regularization\n",
    "scores = model.decision_function(X_val)\n",
    "fpr, tpr, thresholds = metrics.roc_curve(y_val, scores)\n",
    "ax.plot(fpr,tpr,alpha=0.7,label=\"LR (AUC=%.2f)\" % (auc))\n",
    "\n",
    "#for roc curve for lr with l2 regularization\n",
    "scores = model2.decision_function(X_val)\n",
    "fpr2, tpr2, thresholds2 = metrics.roc_curve(y_val, scores)\n",
    "ax.plot(fpr2,tpr2,alpha=0.7,label=\"LR-L2 (AUC=%.2f)\" % (auc2))\n",
    "\n",
    "#for roc curve for lr with l1 regularization\n",
    "scores = model3.decision_function(X_val)\n",
    "fpr3, tpr3, thresholds3 = metrics.roc_curve(y_val, scores)\n",
    "ax.plot(fpr3,tpr3,alpha=0.7,label=\"LR-L1 (AUC=%.2f)\" % (auc3))\n",
    "\n",
    "#for roc curve for lr with elasticnet regularization\n",
    "scores = model4.decision_function(X_val)\n",
    "fpr4, tpr4, thresholds4 = metrics.roc_curve(y_val, scores)\n",
    "ax.plot(fpr4,tpr4,alpha=0.7,label=\"LR-L1-L2 (AUC=%.2f)\" % (auc4))\n",
    "\n",
    "ax.plot([0,1], [0,1], color=\"grey\",label=\"Random Classifier\",linestyle=\"--\")\n",
    "#Set axis labels\n",
    "ax.set_xlabel(\"False Positive Rate\")\n",
    "ax.set_ylabel(\"True Positive Rate\")\n",
    "#Set axis limits\n",
    "ax.set_ylim(0,1)\n",
    "ax.set_xlim(0,1)\n",
    "#show grid in grey and set top and right axis to invisible\n",
    "ax.grid(color=\"#CCCCCC\")\n",
    "ax.spines['top'].set_visible(False)\n",
    "ax.spines['right'].set_visible(False)\n",
    "pl.legend()\n",
    "pl.tight_layout()"
   ]
  },
  {
   "cell_type": "markdown",
   "metadata": {},
   "source": [
    "## Exercise 5.4\n",
    "Select the best performing model from above and retrain it on the full training data with the optimal hyperparemters form the best model. Use then the untouched test data to evaluate the performance of the best model on unknown data. Does your model generalize? Is it good in predicting if a plant is early or late flowering? Visualize your results for the validation data and the testing data in a single roc plot!"
   ]
  },
  {
   "cell_type": "code",
   "execution_count": 10,
   "metadata": {},
   "outputs": [
    {
     "name": "stdout",
     "output_type": "stream",
     "text": [
      "Accuracy (Val):\t\t0.75\n",
      "Accuracy (Test):\t0.75\n",
      "\n",
      "ROC-AUC (Val):\t\t0.73\n",
      "ROC-AUC (Test):\t\t0.68\n",
      "\n",
      "Precision (Val):\t0.93\n",
      "Precision (Test):\t0.81\n",
      "\n",
      "Recall (Val):\t\t0.50\n",
      "Recall (Test):\t\t0.41\n",
      "\n",
      "MCC (Val):\t\t0.54\n",
      "MCC (Test):\t\t0.44\n"
     ]
    },
    {
     "data": {
      "image/png": "[encoded data removed]",
      "text/plain": [
       "<Figure size 360x360 with 1 Axes>"
      ]
     },
     "metadata": {
      "needs_background": "light"
     },
     "output_type": "display_data"
    }
   ],
   "source": [
    "#your code comes here:\n",
    "\n",
    "#retrain model on full training data\n",
    "best_C = model4.C_[0]\n",
    "best_l1_ratio = model4.l1_ratio_[0]\n",
    "\n",
    "model5 = LogisticRegression(C=best_C,l1_ratio=best_l1_ratio,penalty=\"elasticnet\",solver=\"saga\",max_iter=4000)\n",
    "model5.fit(X,y)\n",
    "\n",
    "y_pred = model5.predict(X_test)\n",
    "\n",
    "#Performance Metrics on Test set\n",
    "acc5 = metrics.accuracy_score(y_test, y_pred)\n",
    "auc5 = metrics.roc_auc_score(y_test,y_pred)\n",
    "precision5 = metrics.precision_score(y_test,y_pred)\n",
    "recall5 = metrics.recall_score(y_test,y_pred)\n",
    "mcc5 = metrics.matthews_corrcoef(y_test,y_pred)\n",
    "\n",
    "print(\"Accuracy (Val):\\t\\t%.2f\" % acc4)\n",
    "print(\"Accuracy (Test):\\t%.2f\" % acc5)\n",
    "print()\n",
    "print(\"ROC-AUC (Val):\\t\\t%.2f\" % auc4)\n",
    "print(\"ROC-AUC (Test):\\t\\t%.2f\" % auc5)\n",
    "print()\n",
    "print(\"Precision (Val):\\t%.2f\" % precision4)\n",
    "print(\"Precision (Test):\\t%.2f\" % precision5)\n",
    "print()\n",
    "print(\"Recall (Val):\\t\\t%.2f\" % recall4)\n",
    "print(\"Recall (Test):\\t\\t%.2f\" % recall5)\n",
    "print()\n",
    "print(\"MCC (Val):\\t\\t%.2f\" % mcc4)\n",
    "print(\"MCC (Test):\\t\\t%.2f\" % mcc5)\n",
    "\n",
    "#generate roc plot\n",
    "scores = model5.decision_function(X_test)\n",
    "fpr5, tpr5, thresholds5 = metrics.roc_curve(y_test, scores)\n",
    "\n",
    "fig = pl.figure(figsize=(5,5))\n",
    "ax = fig.add_subplot(111)\n",
    "ax.plot(fpr4,tpr4,alpha=0.7,label=\"LR-ElasticNet (Validation-AUC=%.2f)\" % (auc4))\n",
    "ax.plot(fpr5,tpr5,alpha=0.7,label=\"LR-ElasticNet (Testing-AUC=%.2f)\" % (auc5))\n",
    "\n",
    "\n",
    "ax.plot([0,1], [0,1], color=\"grey\",label=\"Random Classifier\",linestyle=\"--\")\n",
    "#Set axis labels\n",
    "ax.set_xlabel(\"False Positive Rate\")\n",
    "ax.set_ylabel(\"True Positive Rate\")\n",
    "#Set axis limits\n",
    "ax.set_ylim(0,1)\n",
    "ax.set_xlim(0,1)\n",
    "#show grid in grey and set top and right axis to invisible\n",
    "ax.grid(color=\"#CCCCCC\")\n",
    "ax.spines['top'].set_visible(False)\n",
    "ax.spines['right'].set_visible(False)\n",
    "pl.legend()\n",
    "pl.tight_layout()"
   ]
  }
 ],
 "metadata": {
  "kernelspec": {
   "display_name": "Python 3",
   "language": "python",
   "name": "python3"
  },
  "language_info": {
   "codemirror_mode": {
    "name": "ipython",
    "version": 3
   },
   "file_extension": ".py",
   "mimetype": "text/x-python",
   "name": "python",
   "nbconvert_exporter": "python",
   "pygments_lexer": "ipython3",
   "version": "3.6.9"
  }
 },
 "nbformat": 4,
 "nbformat_minor": 2
}
