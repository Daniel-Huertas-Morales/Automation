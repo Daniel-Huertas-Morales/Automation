{
 "cells": [
  {
   "cell_type": "markdown",
   "metadata": {},
   "source": [
    "# Newton's method\n",
    "by Author1, Author2, Author3, Author4\n",
    "\n",
    "## Introduction / Problem Formulation\n",
    "Newton's method is an algorithm to numerically approximate the roots of a real-valued function $f$:\n",
    "\n",
    "1. Choose a starting point $x_0$ which is in proximity of the root of $f$.\n",
    "2. The point $x_1$ is the intersection of the tangent of the graph $f$ at point $(x_0, f(x_0))$ with the x-axis, that is:  \n",
    "\\begin{align}\n",
    "x_1 = x_0 - \\frac{f(x_0)}{f'(x_0)},\n",
    "\\end{align}  \n",
    "where $f'(x)$ is the derivate of $f(x)$. The point $x_1$ is a better approximation of the root than $x_0$.\n",
    "3. To find the root of $f(x)$ replace $x_0$ with the newly computed $x_1$ and repeat the following computation  \n",
    "\\begin{align}\n",
    "x_{n+1} = x_n - \\frac{f(x_n)}{f'(x_n)},\n",
    "\\end{align}  \n",
    "until a sufficiently precise value is reached for the root. This can be computed using the following formula:\n",
    "\\begin{align}\n",
    "\\vert x_{n+1} - x_n \\vert < \\epsilon,\n",
    "\\end{align}  \n",
    "where $\\epsilon$ defines the precision of your value, e.g. $\\epsilon=0.001$ to approximate the root with a precision of up to 3 decimals.\n",
    "\n",
    "In this work we want to approximate the roots of the function\n",
    "\n",
    "\\begin{align}\n",
    "f \\colon \\mathbb{R} \\rightarrow \\mathbb{R} \\colon \\quad f(x) = \\cos{(x)} - 0.8x\n",
    "\\end{align}\n",
    "\n",
    "with derivative \n",
    "\n",
    "\\begin{align}\n",
    "f'(x) = -\\sin{(x)} - 0.8\n",
    "\\end{align}  \n",
    "\n",
    "and analyze whether the starting point influenes the number of iterations needed."
   ]
  },
  {
   "cell_type": "code",
   "execution_count": 1,
   "metadata": {},
   "outputs": [],
   "source": [
    "# import all necessary packages \n",
    "import numpy as np\n",
    "import matplotlib.pyplot as plt"
   ]
  },
  {
   "cell_type": "markdown",
   "metadata": {},
   "source": [
    "## Materials and Methods\n",
    "### Definition of functions"
   ]
  },
  {
   "cell_type": "code",
   "execution_count": 2,
   "metadata": {},
   "outputs": [],
   "source": [
    "# definition of function f\n",
    "def f(x):\n",
    "    \"\"\"\n",
    "    function to compute f(x) = cos(x) - 0.8x\n",
    "    x: point \n",
    "    return: f(x)\n",
    "    \"\"\"\n",
    "    return np.cos(x) - 0.8*x\n",
    "\n",
    "# definition of derivative f'\n",
    "def df(x):\n",
    "    \"\"\"\n",
    "    function to compute the derivative f'(x) = -sin(x) - 0.8\n",
    "    x: point \n",
    "    return: f'(x)\n",
    "    \"\"\"\n",
    "    return -np.sin(x) - 0.8"
   ]
  },
  {
   "cell_type": "markdown",
   "metadata": {},
   "source": [
    "### Imlementation of Newton's method"
   ]
  },
  {
   "cell_type": "code",
   "execution_count": 3,
   "metadata": {},
   "outputs": [],
   "source": [
    "def newton(f, df, x0, epsilon=1e-6):\n",
    "    \"\"\"\n",
    "    function to approximate zero using Newton's method\n",
    "    f: real-valued function whose zeros we want to approximate\n",
    "    df: derivative of f\n",
    "    x0: starting point\n",
    "    epsilon: precision\n",
    "    return: number of iterations needed and approximated root\n",
    "    \"\"\"\n",
    "    i = 1 #iteration counter\n",
    "    diff = np.inf\n",
    "    x1 = np.inf\n",
    "    while diff > epsilon: #check if difference abs(x1-x0) > epsilon\n",
    "        x1 = x0 - f(x0)/df(x0) # Compute new x1 value using tangent equation\n",
    "        diff = np.abs(x1-x0) #Compute difference between old root and current root\n",
    "        x0 = x1 #replace x0 with new root x1\n",
    "        i += 1 #increase loop counter\n",
    "    return i, x1 "
   ]
  },
  {
   "cell_type": "markdown",
   "metadata": {},
   "source": [
    "### Data\n",
    "We try out different starting points"
   ]
  },
  {
   "cell_type": "code",
   "execution_count": 4,
   "metadata": {},
   "outputs": [],
   "source": [
    "starting_points = [0.2,0.4, 0.6, 0.7, 0.75, 0.8, 0.85, 0.9, 1, 1.2]"
   ]
  },
  {
   "cell_type": "markdown",
   "metadata": {},
   "source": [
    "## Run experiments\n",
    "We test Newton's method with the specified starting points"
   ]
  },
  {
   "cell_type": "code",
   "execution_count": 5,
   "metadata": {},
   "outputs": [],
   "source": [
    "iterations = []\n",
    "roots = []\n",
    "# approximate root for each starting point\n",
    "for point in starting_points:\n",
    "    i, x = newton(f, df, point, epsilon=1e-6)\n",
    "    iterations.append(i)\n",
    "    roots.append(x)"
   ]
  },
  {
   "cell_type": "markdown",
   "metadata": {},
   "source": [
    "## Results\n",
    "We first compare the approximated roots and then visualize the number of iterations as a barplot"
   ]
  },
  {
   "cell_type": "code",
   "execution_count": 6,
   "metadata": {
    "scrolled": true
   },
   "outputs": [
    {
     "name": "stdout",
     "output_type": "stream",
     "text": [
      "Starting point\t Root\n",
      "0.2\t\t 0.837061\n",
      "0.4\t\t 0.837061\n",
      "0.6\t\t 0.837061\n",
      "0.7\t\t 0.837061\n",
      "0.8\t\t 0.837061\n",
      "0.8\t\t 0.837061\n",
      "0.8\t\t 0.837061\n",
      "0.9\t\t 0.837061\n",
      "1.0\t\t 0.837061\n",
      "1.2\t\t 0.837061\n"
     ]
    }
   ],
   "source": [
    "# compare roots\n",
    "print('Starting point\\t Root')\n",
    "for i in range(len(starting_points)):\n",
    "    print(\"%.1f\\t\\t %.6f\" % (starting_points[i],roots[i]))"
   ]
  },
  {
   "cell_type": "code",
   "execution_count": 7,
   "metadata": {
    "scrolled": true
   },
   "outputs": [
    {
     "data": {
      "image/png": "[encoded data removed]",
      "text/plain": [
       "<Figure size 720x360 with 1 Axes>"
      ]
     },
     "metadata": {
      "needs_background": "light"
     },
     "output_type": "display_data"
    }
   ],
   "source": [
    "# visualize number of iterations as barplot\n",
    "fig = plt.figure(figsize = (10, 5))\n",
    "plt.bar(starting_points, iterations, color ='green', width = 0.04) \n",
    "plt.xlabel(\"Starting points\")\n",
    "plt.ylabel(\"Number of iterations\")\n",
    "plt.title(\"Newton's method\")\n",
    "plt.show()"
   ]
  },
  {
   "cell_type": "markdown",
   "metadata": {},
   "source": [
    "## Interpretation\n",
    "- Each starting point gives the same approximated root x=0.837061.\n",
    "- From the barplot we can see that Newton's method needs less iterations the closer the starting point is to the root. "
   ]
  },
  {
   "cell_type": "markdown",
   "metadata": {},
   "source": [
    "## Future research\n",
    "- use additional starting points closer to the true zero\n",
    "- try out different precition values epsilon\n",
    "- check out different functions $f$"
   ]
  }
 ],
 "metadata": {
  "kernelspec": {
   "display_name": "Python 3",
   "language": "python",
   "name": "python3"
  },
  "language_info": {
   "codemirror_mode": {
    "name": "ipython",
    "version": 3
   },
   "file_extension": ".py",
   "mimetype": "text/x-python",
   "name": "python",
   "nbconvert_exporter": "python",
   "pygments_lexer": "ipython3",
   "version": "3.8.5"
  }
 },
 "nbformat": 4,
 "nbformat_minor": 4
}
